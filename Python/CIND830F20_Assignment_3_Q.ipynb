{
 "cells": [
  {
   "cell_type": "markdown",
   "metadata": {
    "id": "TX_-QfCapg5r"
   },
   "source": [
    "## CIND830 - Python Programming for Data Science  \n",
    "### Assignment 3 (10% of the final grade)\n",
    "### Due on December 10, 2020 11:59 PM\n",
    "### Name: Tasdeed Aziz\n",
    "### ID:500945638"
   ]
  },
  {
   "cell_type": "markdown",
   "metadata": {
    "id": "U8IqCJzxpg5t"
   },
   "source": [
    "*****\n",
    "This is a Jupyter Notebook document that extends a simple formatting syntax for authoring HTML and PDF.\n",
    "Review [this](https://jupyter-notebook.readthedocs.io/en/stable/notebook.html) website for more details on using Jupyter Notebook.\n",
    "\n",
    "Use the JupyterHub server on the Google Cloud Platform,\n",
    "provided by your designated instructor, for this assignment.\n",
    "Complete the assignment by inserting your Python code wherever you see the string\n",
    "\"#INSERT YOUR ANSWER HERE.\" or \"##CODE HERE##\"\n",
    "\n",
    "When you click the `File` button, from the top navigation bar, then select `Export Notebook As ...`,\n",
    "a document (PDF or HTML format) will be generated that includes\n",
    " both the assignment content and the output of any embedded Python code chunks.\n",
    "\n",
    "Using [these](https://www.ryerson.ca/courses/students/tutorials/assignments/) guidelines,\n",
    "submit **both** the IPYNB and the exported file (PDF or HTML).\n",
    "Failing to submit both files will be subject to mark deduction."
   ]
  },
  {
   "cell_type": "markdown",
   "metadata": {
    "id": "_w2FpDl5pg5u"
   },
   "source": [
    "*****"
   ]
  },
  {
   "cell_type": "markdown",
   "metadata": {
    "id": "EgCYUXsUpg5w"
   },
   "source": [
    "### Question 1:"
   ]
  },
  {
   "cell_type": "markdown",
   "metadata": {
    "id": "U8EiOXpFAvO0"
   },
   "source": [
    "**a)** Write a code segment to create and print a two-dimensional 5x4 array (i.e. grid). The elements of the grid should be randomly selected from the inclusive interval \\[-50, 50\\]."
   ]
  },
  {
   "cell_type": "code",
   "execution_count": 27,
   "metadata": {
    "id": "uDtTitw9AvO1",
    "pycharm": {
     "name": "#%%\n"
    }
   },
   "outputs": [
    {
     "name": "stdout",
     "output_type": "stream",
     "text": [
      "[[-31  -7 -34  40]\n",
      " [  8   3 -20   1]\n",
      " [ 30   9 -11  -1]\n",
      " [ 31 -22  18 -49]\n",
      " [ 48 -25  47  25]]\n"
     ]
    }
   ],
   "source": [
    "import random\n",
    "import numpy as np\n",
    "\n",
    "matrix = np.random.randint(-50,50,(5,4))\n",
    "print(matrix)"
   ]
  },
  {
   "cell_type": "markdown",
   "metadata": {
    "id": "daGGPcbJm4Wf"
   },
   "source": [
    "**b)** Write a code segment that searches the `Grid` object in `Q1a` for all the negative integers, and prints them."
   ]
  },
  {
   "cell_type": "code",
   "execution_count": 28,
   "metadata": {
    "id": "i69O_-x4m4zX"
   },
   "outputs": [
    {
     "name": "stdout",
     "output_type": "stream",
     "text": [
      "-31\n",
      "-7\n",
      "-34\n",
      "-20\n",
      "-11\n",
      "-1\n",
      "-22\n",
      "-49\n",
      "-25\n"
     ]
    }
   ],
   "source": [
    "for row in matrix:\n",
    "    for column in row:\n",
    "        if column < 0:\n",
    "            print(column)\n",
    "    \n",
    "        "
   ]
  },
  {
   "cell_type": "markdown",
   "metadata": {
    "id": "xC08P3Mvpg6C"
   },
   "source": [
    "**c)** Given that `iList = [1, -1, 2, -2]`, add each element of `iList` to its corresponding element of `Q1a` `Grid` row-wise.  \n",
    "\n",
    "For example, if the Grid is equal to: $$\\begin{pmatrix} 1 & 2 & 1 & 1 \\\\ 3 & 0 & 1 & 6 \\\\ 0 & 2 & 4 & 6 \\\\ 4 & 5 &0 & 2 \\\\ 3 & 6 & 4 & 3 \\end{pmatrix}$$\n",
    "\n",
    "Then the output should be:\n",
    "$$\\begin{pmatrix} 1+1 & 2-1 & 1+2 & 1-2 \\\\ 3+1 & 0-1 & 1+2 & 6-2 \\\\ 0+1 & 2-1 & 4+2 & 6-2 \\\\ 4+1 & 5-1 &0+2 & 2-2 \\\\ 3+1 & 6-1 & 4+2 & 3-2 \\end{pmatrix}$$"
   ]
  },
  {
   "cell_type": "code",
   "execution_count": 29,
   "metadata": {
    "id": "MVoBD9X1pg6D",
    "pycharm": {
     "name": "#%%\n"
    },
    "tags": []
   },
   "outputs": [
    {
     "name": "stdout",
     "output_type": "stream",
     "text": [
      "[[-30  -8 -32  38]\n",
      " [  9   2 -18  -1]\n",
      " [ 31   8  -9  -3]\n",
      " [ 32 -23  20 -51]\n",
      " [ 49 -26  49  23]]\n"
     ]
    }
   ],
   "source": [
    "iList = [1,-1,2,-2]\n",
    "addition = matrix + iList\n",
    "print(addition)"
   ]
  },
  {
   "cell_type": "markdown",
   "metadata": {
    "id": "3VHOL8GT2yQ8"
   },
   "source": [
    "**d)** Write a code segment that creates a ragged grid with three rows.  The first row contains 2 positions, the second row contains 4 positions, and the third row contains 6 positions. "
   ]
  },
  {
   "cell_type": "code",
   "execution_count": 43,
   "metadata": {
    "id": "FrOOUeqM2xqN"
   },
   "outputs": [
    {
     "name": "stdout",
     "output_type": "stream",
     "text": [
      "1 2 \n",
      "1 2 3 4 \n",
      "1 2 3 4 5 6 \n"
     ]
    }
   ],
   "source": [
    "matrix2 = [[1, 2], [1,2,3, 4], [1,2,3,4,5,6]]\n",
    "for row in range(len(matrix2)):\n",
    "    for column in range(len(matrix2[row])):\n",
    "        print(matrix2[row][column], end = ' ')\n",
    "    print()"
   ]
  },
  {
   "cell_type": "markdown",
   "metadata": {
    "id": "ES2Lj2aup8BB"
   },
   "source": [
    "*****"
   ]
  },
  {
   "cell_type": "markdown",
   "metadata": {
    "id": "TEbtnn-0pg6K",
    "nteract": {
     "transient": {
      "deleting": false
     }
    }
   },
   "source": [
    "\n",
    "\n",
    "### Question 2:\n",
    "A search algorithm `iSearch` and a variable `ilist` have been defined as follows:\n",
    "\n",
    "\n"
   ]
  },
  {
   "cell_type": "code",
   "execution_count": 21,
   "metadata": {
    "collapsed": false,
    "id": "sAiYselppg6K",
    "jupyter": {
     "outputs_hidden": false,
     "source_hidden": false
    },
    "nteract": {
     "transient": {
      "deleting": false
     }
    }
   },
   "outputs": [],
   "source": [
    "def iSearch(target, lyst):\n",
    "    left = 0\n",
    "    right = len(lyst) - 1\n",
    "    while left <= right:\n",
    "        midpoint = (left + right) // 2\n",
    "        if target == lyst[midpoint]:\n",
    "            return midpoint\n",
    "        elif target < lyst[midpoint]:\n",
    "            right = midpoint - 1\n",
    "        else:\n",
    "            left = midpoint + 1\n",
    "    return -1\n",
    "\n",
    "iList = [11, 20, 29, 33, 41, 55, 56, 62, 66, 74, 88]"
   ]
  },
  {
   "cell_type": "markdown",
   "metadata": {
    "id": "FRw3RLJ0pg6M",
    "nteract": {
     "transient": {
      "deleting": false
     }
    }
   },
   "source": [
    "**a)**  If the target element is `11`, trace the values of the variables `left`, `right`, and `midpoint` after applying the `iSearch` algorithm to the `iList` structure. \n",
    "\n"
   ]
  },
  {
   "cell_type": "code",
   "execution_count": 2,
   "metadata": {
    "collapsed": false,
    "id": "PWvj1Z6lpg6N",
    "jupyter": {
     "outputs_hidden": false,
     "source_hidden": false
    },
    "nteract": {
     "transient": {
      "deleting": false
     }
    },
    "tags": []
   },
   "outputs": [
    {
     "name": "stdout",
     "output_type": "stream",
     "text": [
      "left: 0\n",
      "right: 10\n",
      "Midpoint: 5\n",
      "Right: 4\n",
      "Midpoint: 2\n",
      "Right: 1\n",
      "Midpoint: 0\n",
      "Target Position: 0\n"
     ]
    }
   ],
   "source": [
    "def iSearch(target, lyst):\n",
    "    left = 0\n",
    "    print('left:',left)\n",
    "    right = len(lyst) - 1\n",
    "    print('right:',right)\n",
    "    while left <= right:\n",
    "        midpoint = (left + right) // 2\n",
    "        print('Midpoint:',midpoint)\n",
    "        if target == lyst[midpoint]:\n",
    "            return midpoint\n",
    "        elif target < lyst[midpoint]:\n",
    "            right = midpoint - 1\n",
    "            print('Right:', right)\n",
    "        else:\n",
    "            left = midpoint + 1\n",
    "    return -1\n",
    "\n",
    "iList = [11, 20, 29, 33, 41, 55, 56, 62, 66, 74, 88]\n",
    "\n",
    "\n",
    "search = iSearch(11,iList)\n",
    "print('Target Position:',search)"
   ]
  },
  {
   "cell_type": "markdown",
   "metadata": {
    "id": "_13c-rTBnxlK"
   },
   "source": [
    "**b)**  Repeat the tracing process in `Q1a` for target element `55`."
   ]
  },
  {
   "cell_type": "code",
   "execution_count": 41,
   "metadata": {
    "id": "vNoyvywsn81B"
   },
   "outputs": [
    {
     "name": "stdout",
     "output_type": "stream",
     "text": [
      "left: 0\n",
      "right: 10\n",
      "Midpoint: 5\n",
      "Target Position: 5\n"
     ]
    }
   ],
   "source": [
    "def iSearch(target, lyst):\n",
    "    left = 0\n",
    "    print('left:',left)\n",
    "    right = len(lyst) - 1\n",
    "    print('right:',right)\n",
    "    while left <= right:\n",
    "        midpoint = (left + right) // 2\n",
    "        print('Midpoint:',midpoint)\n",
    "        if target == lyst[midpoint]:\n",
    "            return midpoint\n",
    "        elif target < lyst[midpoint]:\n",
    "            right = midpoint - 1\n",
    "            print('Right:',right)\n",
    "        else:\n",
    "            left = midpoint + 1\n",
    "    return -1\n",
    "\n",
    "iList = [11, 20, 29, 33, 41, 55, 56, 62, 66, 74, 88]\n",
    "\n",
    "\n",
    "search = iSearch(55,iList)\n",
    "print('Target Position:',search)"
   ]
  },
  {
   "cell_type": "markdown",
   "metadata": {
    "id": "1GzdrbRcoAoZ"
   },
   "source": [
    "**c)**  Why does the iSearch algorithm run faster in `Q1b` scenario than in `Q1a` scenario?"
   ]
  },
  {
   "cell_type": "code",
   "execution_count": null,
   "metadata": {
    "id": "xTJayafQoKPc"
   },
   "outputs": [],
   "source": [
    "#INSERT YOUR ANSWER HERE.\n",
    "'''In Q1b scenario the target is in middle, the target matches the midpoint value\n",
    "and the alogrithm returns the position of taget item without searching any further or iterating.\n",
    "The complexity of this scenario is in order of O(1) as it takes a constant number.In Q1a the target is\n",
    "in beginning of the list, so the algorithms keeps searching till the value matches the midpoint value.\n",
    "As a result computation is much faster in Q1b than in Q1a.'''"
   ]
  },
  {
   "cell_type": "markdown",
   "metadata": {
    "id": "-jgFidXvoZlL"
   },
   "source": [
    "**d)** Modify the `iSearch` algorithm, so it can run in `Q1a` scenario as fast as it does in `Q1b` scenario."
   ]
  },
  {
   "cell_type": "code",
   "execution_count": 26,
   "metadata": {
    "id": "iXfE02YFpVP8"
   },
   "outputs": [
    {
     "name": "stdout",
     "output_type": "stream",
     "text": [
      "left: 0\n",
      "right: 10\n",
      "Midpoint: 5\n",
      "Target Position: 0\n"
     ]
    }
   ],
   "source": [
    "def iSearch(target, lyst):\n",
    "    left = 0\n",
    "    print('left:',left)\n",
    "    right = len(lyst) - 1\n",
    "    print('right:',right)\n",
    "    while left <= right:\n",
    "        midpoint = (left + right) // 2\n",
    "        print('Midpoint:',midpoint)\n",
    "        if target == lyst[midpoint]:\n",
    "            return midpoint\n",
    "        elif target < lyst[midpoint]:\n",
    "            return lyst.index(target)\n",
    "        else:\n",
    "            left = midpoint + 1\n",
    "    return -1\n",
    "\n",
    "iList = [11, 20, 29, 33, 41, 55, 56, 62, 66, 74, 88]\n",
    "\n",
    "\n",
    "search =iSearch(11,iList)\n",
    "print('Target Position:',search)\n"
   ]
  },
  {
   "cell_type": "markdown",
   "metadata": {
    "id": "dHN2KMqzm3J8"
   },
   "source": [
    "**e)** For a problem of size $n$, if algorithm `X` performs $n^4$ instructions, and algorithm `Y` performs $2^n$ instructions.  At what point does one of the algorithms begin to be more efficient and perform better than the other? Justify your answer."
   ]
  },
  {
   "cell_type": "code",
   "execution_count": null,
   "metadata": {
    "id": "23cCLhH9oFyU"
   },
   "outputs": [],
   "source": [
    "'''The algorithm X is more efficient at a point where the size of n increases. The algorithm Y is \n",
    "an exponential, which is not effiecent to be perform on large size of n due to higher order of complexity.'''"
   ]
  },
  {
   "cell_type": "markdown",
   "metadata": {
    "id": "M9eJ34NNAvPT"
   },
   "source": [
    "*****"
   ]
  },
  {
   "cell_type": "markdown",
   "metadata": {
    "id": "NNVEX5FMq_I7"
   },
   "source": [
    "### Question 3:\n",
    "\n"
   ]
  },
  {
   "cell_type": "markdown",
   "metadata": {
    "id": "MI9TfOmkHHMT"
   },
   "source": [
    "Emulate the stack behaviour using the list data structure."
   ]
  },
  {
   "cell_type": "markdown",
   "metadata": {
    "id": "oDRF95yUAvPW",
    "pycharm": {
     "name": "#%% md\n"
    }
   },
   "source": [
    "**a)** Complete the methods of the following `Stack` class according to their description"
   ]
  },
  {
   "cell_type": "code",
   "execution_count": 5,
   "metadata": {
    "id": "19WOpUCLMV0c"
   },
   "outputs": [],
   "source": [
    "class Stack:\n",
    "  def __init__(self):\n",
    "    \"\"\" Initialize a new stack \"\"\"\n",
    "    self.elements = []\n",
    "  def push(self, new_item):\n",
    "    \"\"\" Append the new item to the stack \"\"\"\n",
    "    self.elements.append(new_item)\n",
    "  def pop(self):\n",
    "    \"\"\" Remove and return the last item from the stack \"\"\"\n",
    "    return self.elements.pop()\n",
    "  def size(self):\n",
    "    \"\"\" Return the total number of elements in the stack \"\"\"\n",
    "    return len(self.elements)\n",
    "  def is_empty(self):\n",
    "    \"\"\" Return True if the stack is empty and False if it is not empty \"\"\"\n",
    "    return self.elements == []\n",
    "  def peek(self):\n",
    "    \"\"\" Return the element at the top of the stack or return None if the stack is empty \"\"\"\n",
    "    if not self. is_empty():\n",
    "        return self.elements[-1]\n",
    "    \n",
    "  def get_stack(self): ## testing the elements\n",
    "    return self.elements\n"
   ]
  },
  {
   "cell_type": "markdown",
   "metadata": {
    "id": "YTYiW9MeAvPd"
   },
   "source": [
    "**b)** Use the `Stack` class that you defined in `Q3a` to complete the code of the `is_valid()` function, which checks whether the order of the brackets of an arithmetic expression is correct. Some examples are given below:"
   ]
  },
  {
   "cell_type": "code",
   "execution_count": 3,
   "metadata": {
    "id": "7R1Gvj_DQJ6f"
   },
   "outputs": [],
   "source": [
    "exp1 = \"(2+3)+(1-5)\" # True\n",
    "exp2 = \"((3*2))*(7/3))\" # False\n",
    "exp3 = \"(3*5))]\" # False\n",
    "#test1 = '()'\n",
    "#test2 = '()]}'\n",
    "#test3 = '}{}'"
   ]
  },
  {
   "cell_type": "code",
   "execution_count": 6,
   "metadata": {
    "id": "I5xGeroY_EEw"
   },
   "outputs": [
    {
     "name": "stdout",
     "output_type": "stream",
     "text": [
      "True\n",
      "False\n",
      "False\n"
     ]
    }
   ],
   "source": [
    "def is_valid(exp):\n",
    "  \"\"\" Check the order of the brackets\n",
    "      Returns True or False\n",
    "  \"\"\"\n",
    "  opening = ['(', '[', '{']\n",
    "  closing = [')', ']', '}']\n",
    "  s = Stack()\n",
    "  for symbols in exp:\n",
    "    if symbols in opening:\n",
    "        s.push(symbols)\n",
    "    elif symbols in closing:\n",
    "        if s.is_empty():\n",
    "            return False\n",
    "        top = s.pop()\n",
    "        if symbols == ')' and top != '(':\n",
    "            return False\n",
    "        elif symbols == ']' and top != '[':\n",
    "            return False\n",
    "        elif symbols == '}' and top != '}':\n",
    "            return False\n",
    "             \n",
    "  return s.is_empty()\n",
    "  \n",
    "print(is_valid(exp1))\n",
    "print(is_valid(exp2))\n",
    "print(is_valid(exp3))\n",
    "#print(is_valid(test1))\n",
    "#print(is_valid(test2))\n",
    "#print(is_valid(test3))"
   ]
  },
  {
   "cell_type": "markdown",
   "metadata": {
    "id": "bHHNxP0IAvPe"
   },
   "source": [
    "**c)** Use the `Stack` class that you defined in `Q3a` to complete the code of the `count_pairs()` function, which returns the number of the valid bracket pairs of an arithmetic expression. Some examples are given below:"
   ]
  },
  {
   "cell_type": "code",
   "execution_count": 7,
   "metadata": {
    "id": "5Yf640FwRG8r"
   },
   "outputs": [],
   "source": [
    "exp1 = \"(2+3)+(1-5)\" # 2 pairs\n",
    "exp2 = \"((([()])))\" # 5 pairs\n",
    "exp3 = \"[([])\" # 2 pairs"
   ]
  },
  {
   "cell_type": "code",
   "execution_count": 8,
   "metadata": {
    "id": "He8An4r_CJRA"
   },
   "outputs": [
    {
     "name": "stdout",
     "output_type": "stream",
     "text": [
      "2 pairs\n",
      "5 pairs\n",
      "2 pairs\n"
     ]
    }
   ],
   "source": [
    "def count_pairs(exp):\n",
    "  \"\"\" Count the valid number of brackets\n",
    "      Returns the total number of valid brackets in the string\n",
    "  \"\"\"\n",
    "  opening = ['(', '[', '{']\n",
    "  closing = [')', ']', '}']\n",
    "  s = Stack()\n",
    "  pairs = 0 \n",
    "  for symbols in exp:\n",
    "        if symbols in opening:\n",
    "            s.push(symbols)\n",
    "        elif symbols in closing:\n",
    "            if s.is_empty():\n",
    "                pass\n",
    "            else:\n",
    "                s.pop()\n",
    "                pairs +=1\n",
    "                \n",
    "  return  pairs\n",
    "\n",
    "print(count_pairs(exp1),'pairs')\n",
    "print(count_pairs(exp2),'pairs')\n",
    "print(count_pairs(exp3),'pairs')"
   ]
  },
  {
   "cell_type": "markdown",
   "metadata": {
    "id": "m4_G4E7t8VWQ"
   },
   "source": [
    "### Question 4:\n",
    "According to each method's documentation, complete the code of the `TextProcessor` class and its subclass `TextAnalyzer`."
   ]
  },
  {
   "cell_type": "code",
   "execution_count": 9,
   "metadata": {
    "id": "nhAeupJB9KeX"
   },
   "outputs": [],
   "source": [
    "class TextProcessor:\n",
    "  def __init__(self, text):\n",
    "    self.text = text\n",
    "  def setStopWords(self,stopWords):\n",
    "    ''' set stop words as recieved in the parameters '''\n",
    "    self.stopWords = stopWords\n",
    "  def getStopWords(self):\n",
    "    ''' return stop words '''\n",
    "    return self.stopWords\n",
    "  def getUniqWords(self):\n",
    "    return set(self.__text.split())\n",
    "  def getFilteredText(self):\n",
    "    ''' remove filter words from the text \n",
    "        return filtered text\n",
    "    '''\n",
    "    filtered_words = []\n",
    "    for word in self.text.split():\n",
    "        if word not in self.stopWords:\n",
    "            filtered_words.append(word)\n",
    "    return filtered_words\n",
    "    \n",
    "class TextAnalyzer(TextProcessor):\n",
    "  def __init__(self,text):\n",
    "    ''' Construct the class '''\n",
    "    self.text = text\n",
    "    \n",
    "  def getWordFrequency(self):\n",
    "    \n",
    "    ''' Call the getFilteredText() method\n",
    "        Create a dictionary of words\n",
    "        key = word and value= frequency\n",
    "        return the dictionary\n",
    "    '''\n",
    "    filtered_words = self.getFilteredText()\n",
    "    dictFreq = {}\n",
    "    for i in filtered_words:\n",
    "        dictFreq[i] = filtered_words.count(i)\n",
    "    return dictFreq\n",
    "    "
   ]
  },
  {
   "cell_type": "code",
   "execution_count": 10,
   "metadata": {},
   "outputs": [
    {
     "data": {
      "text/plain": [
       "{'quick': 6, 'brown': 6, 'fox': 6, 'jumps': 5, 'over': 4, 'lazy': 2, 'dog': 1}"
      ]
     },
     "execution_count": 10,
     "metadata": {},
     "output_type": "execute_result"
    }
   ],
   "source": [
    "ta = TextAnalyzer(\"a quick brown fox \" + \n",
    "                  \"a quick brown fox jumps \" + \n",
    "                  \"a quick brown fox jumps over \" + \n",
    "                  \"a quick brown fox jumps over the \" + \n",
    "                  \"a quick brown fox jumps over the lazy \" + \n",
    "                  \"a quick brown fox jumps over the lazy dog\")\n",
    "\n",
    "ta.setStopWords(['a','the'])\n",
    "#print(ta.stopWords)\n",
    "\n",
    "ta.getWordFrequency()\n"
   ]
  },
  {
   "cell_type": "markdown",
   "metadata": {
    "id": "BaAOnvdP-LPK"
   },
   "source": [
    "Verify the correctness of your code using the following steps:\n",
    "\n",
    "1. Instantiate the `TextAnalyzer` class by creating an object called `ta` as follows:\n",
    "\n",
    "`ta = TextAnalyzer(\"a quick brown fox \" + \n",
    "                  \"a quick brown fox jumps \" + \n",
    "                  \"a quick brown fox jumps over \" + \n",
    "                  \"a quick brown fox jumps over the \" + \n",
    "                  \"a quick brown fox jumps over the lazy \" + \n",
    "                  \"a quick brown fox jumps over the lazy dog\")`\n",
    "\n",
    "2. Assign a list of stop words using the `setStopWords()` method:\n",
    "`ta.setStopWords(['a', 'the'])`\n",
    "\n",
    "3. Count the occurrences of each word using the `getWordFrequency()` method:\n",
    "`ta.getWordFrequency()`\n",
    "\n",
    "4. The output should be as follows\n",
    "`{'quick': 6, 'brown': 6, 'fox': 6, 'jumps': 5, 'over': 4, 'lazy': 2, 'dog': 1}}`\n"
   ]
  },
  {
   "cell_type": "markdown",
   "metadata": {
    "id": "l9l0sjUoAvPk"
   },
   "source": [
    "#### This is the end of assignment 3"
   ]
  }
 ],
 "metadata": {
  "colab": {
   "collapsed_sections": [],
   "name": "CIND830F20 Assignment 3 Q.ipynb",
   "provenance": [],
   "toc_visible": true
  },
  "kernelspec": {
   "display_name": "Python 3",
   "language": "python",
   "name": "python3"
  },
  "language_info": {
   "codemirror_mode": {
    "name": "ipython",
    "version": 3
   },
   "file_extension": ".py",
   "mimetype": "text/x-python",
   "name": "python",
   "nbconvert_exporter": "python",
   "pygments_lexer": "ipython3",
   "version": "3.7.6"
  },
  "nteract": {
   "version": "0.26.0"
  },
  "varInspector": {
   "cols": {
    "lenName": 16,
    "lenType": 16,
    "lenVar": 40
   },
   "kernels_config": {
    "python": {
     "delete_cmd_postfix": "",
     "delete_cmd_prefix": "del ",
     "library": "var_list.py",
     "varRefreshCmd": "print(var_dic_list())"
    },
    "r": {
     "delete_cmd_postfix": ") ",
     "delete_cmd_prefix": "rm(",
     "library": "var_list.r",
     "varRefreshCmd": "cat(var_dic_list()) "
    }
   },
   "types_to_exclude": [
    "module",
    "function",
    "builtin_function_or_method",
    "instance",
    "_Feature"
   ],
   "window_display": false
  }
 },
 "nbformat": 4,
 "nbformat_minor": 4
}
