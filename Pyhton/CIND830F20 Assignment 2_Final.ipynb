{
 "cells": [
  {
   "cell_type": "markdown",
   "metadata": {
    "id": "TX_-QfCapg5r"
   },
   "source": [
    "## CIND830 - Python Programming for Data Science  \n",
    "### Assignment 2 (10% of the final grade)\n",
    "### Due on November 16, 2020 11:59 PM\n",
    "\n",
    "### Name : Tasdeed Aziz\n",
    "### ID: 500945638"
   ]
  },
  {
   "cell_type": "markdown",
   "metadata": {
    "id": "U8IqCJzxpg5t"
   },
   "source": [
    "*****\n",
    "This is a Jupyter Notebook document that extends a simple formatting syntax for authoring HTML and PDF.\n",
    "Review [this](https://jupyter-notebook.readthedocs.io/en/stable/notebook.html) website for more details on using Juputer Notebook.\n",
    "\n",
    "Use the JupyterHub server on the Google Cloud Platform,\n",
    "provided by your designated instructor, for this assignment.\n",
    "Complete the assignment by inserting your Python code wherever you see the string\n",
    "\"#INSERT YOUR ANSWER HERE.\"\n",
    "\n",
    "When you click the `File` button, from the top navigation bar, then select `Export Notebook As ...`,\n",
    "a document (PDF or HTML format) will be generated that includes\n",
    " both the assignment content and the output of any embedded Python code chunks.\n",
    "\n",
    "Using [these](https://www.ryerson.ca/courses/students/tutorials/assignments/) guidelines,\n",
    "submit **both** the IPYNB and the exported file (PDF or HTML).\n",
    "Failing to submit both files will be subject to mark deduction."
   ]
  },
  {
   "cell_type": "markdown",
   "metadata": {
    "id": "_w2FpDl5pg5u"
   },
   "source": [
    "*****"
   ]
  },
  {
   "cell_type": "markdown",
   "metadata": {
    "id": "EgCYUXsUpg5w"
   },
   "source": [
    "### Question 1:"
   ]
  },
  {
   "cell_type": "markdown",
   "metadata": {
    "id": "U8EiOXpFAvO0"
   },
   "source": [
    "**a)** Define a function called `getEven` that takes a list of numbers as a parameter and returns a new list that contains only the even numbers.\n",
    "For example given \\[1, 2, 3, 4, 5, 7\\] the getEven function will return \\[2, 4\\]"
   ]
  },
  {
   "cell_type": "code",
   "execution_count": 1,
   "metadata": {
    "colab": {
     "base_uri": "https://localhost:8080/",
     "height": 34
    },
    "executionInfo": {
     "elapsed": 551,
     "status": "ok",
     "timestamp": 1601305912823,
     "user": {
      "displayName": "Uzair Ahmad",
      "photoUrl": "",
      "userId": "17882447974983956440"
     },
     "user_tz": 240
    },
    "id": "uDtTitw9AvO1",
    "outputId": "782b0db1-1426-4ce3-9f39-5f975448c3df",
    "pycharm": {
     "name": "#%%\n"
    }
   },
   "outputs": [],
   "source": [
    "def getEven(nlst):\n",
    "    even = [ ]\n",
    "    for i in nlst:\n",
    "        if i % 2 == 0:\n",
    "            even.append(i)\n",
    "    return even        \n",
    "        "
   ]
  },
  {
   "cell_type": "code",
   "execution_count": 3,
   "metadata": {},
   "outputs": [
    {
     "data": {
      "text/plain": [
       "[2, 4]"
      ]
     },
     "execution_count": 3,
     "metadata": {},
     "output_type": "execute_result"
    }
   ],
   "source": [
    "getEven([1,2,3,4,5,7])"
   ]
  },
  {
   "cell_type": "markdown",
   "metadata": {
    "id": "7P6eyfpepg58"
   },
   "source": [
    "**b)** Modify the `getEven` function you created in Q1.a to return a dictionary of the counts of the even and the odd numbers. For example given \\[1, 2, 3, 4, 5, 7\\] the function returns {'even': 2, 'odd': 4}."
   ]
  },
  {
   "cell_type": "code",
   "execution_count": 7,
   "metadata": {
    "colab": {
     "base_uri": "https://localhost:8080/",
     "height": 34
    },
    "executionInfo": {
     "elapsed": 297,
     "status": "ok",
     "timestamp": 1601305913835,
     "user": {
      "displayName": "Uzair Ahmad",
      "photoUrl": "",
      "userId": "17882447974983956440"
     },
     "user_tz": 240
    },
    "id": "s2xo2uaYpg59",
    "outputId": "60fda112-951b-4af0-de95-0b3f2fe83c47",
    "pycharm": {
     "name": "#%%\n"
    },
    "tags": [
     "parameters"
    ]
   },
   "outputs": [],
   "source": [
    "def getEven2(nlst):\n",
    "    countDict = {'even':0,'odd':0 }\n",
    "    even = [ ]\n",
    "    odd =  [ ]\n",
    "    for i in nlst:\n",
    "        if i % 2 == 0:\n",
    "            even.append(i)\n",
    "            countDict.update(even = len(even))\n",
    "        else:\n",
    "            odd.append(i)\n",
    "            countDict.update(odd = len(odd))\n",
    "    return countDict        \n",
    "\n",
    "    "
   ]
  },
  {
   "cell_type": "code",
   "execution_count": 8,
   "metadata": {},
   "outputs": [
    {
     "data": {
      "text/plain": [
       "{'even': 2, 'odd': 4}"
      ]
     },
     "execution_count": 8,
     "metadata": {},
     "output_type": "execute_result"
    }
   ],
   "source": [
    "getEven2([1,2,3,4,5,7])"
   ]
  },
  {
   "cell_type": "markdown",
   "metadata": {
    "id": "xC08P3Mvpg6C"
   },
   "source": [
    "**c)** Modify the function you created in Q1.b and add two more more entries to the returned dictionary: one to represent the sum of all the numbers and the other one to represent the ratio of the even to the odd numbers.  For example, given \\[1, 2, 3, 4, 5, 7\\] the function returns {'even': 2, 'odd': 4, 'sum': 6, 'ratio': 0.5}."
   ]
  },
  {
   "cell_type": "code",
   "execution_count": 18,
   "metadata": {
    "colab": {
     "base_uri": "https://localhost:8080/",
     "height": 34
    },
    "executionInfo": {
     "elapsed": 484,
     "status": "ok",
     "timestamp": 1601060937685,
     "user": {
      "displayName": "Tamer Abdou",
      "photoUrl": "https://lh3.googleusercontent.com/a-/AOh14GjCgNQvVj3RXxhuiis_tt7gJ-TeyFHRttd9g6sIBw=s64",
      "userId": "05886486315929943744"
     },
     "user_tz": 240
    },
    "id": "MVoBD9X1pg6D",
    "outputId": "f4006de2-de91-4b1c-8e5a-b873c71bed49",
    "pycharm": {
     "name": "#%%\n"
    },
    "tags": []
   },
   "outputs": [],
   "source": [
    "def getEven3(nlst):\n",
    "    countDict = { 'even':0,'odd':0}\n",
    "    even = [ ]\n",
    "    odd =  [ ]\n",
    "    for i in nlst:\n",
    "        if i % 2 == 0:\n",
    "            even.append(i)\n",
    "            countDict.update(even = len(even))\n",
    "        else:\n",
    "            odd.append(i)\n",
    "            countDict.update(odd = len(odd))\n",
    "    countDict['sum'] = sum(nlst)\n",
    "    countDict['ratio'] = (countDict['even']/countDict['odd'])\n",
    "    return countDict        \n",
    "\n",
    "    "
   ]
  },
  {
   "cell_type": "code",
   "execution_count": 19,
   "metadata": {},
   "outputs": [
    {
     "data": {
      "text/plain": [
       "{'even': 2, 'odd': 4, 'sum': 22, 'ratio': 0.5}"
      ]
     },
     "execution_count": 19,
     "metadata": {},
     "output_type": "execute_result"
    }
   ],
   "source": [
    "getEven3([1,2,3,4,5,7])"
   ]
  },
  {
   "cell_type": "markdown",
   "metadata": {
    "id": "M4dHoJWYpg6G"
   },
   "source": [
    "**d)** Modify the function you created in Q1.c to traverse the values of the returned dictionary and return the dictionary keys as a tuple.  For example, given \\[1, 2, 3, 4, 5, 7\\] the function returns ('even', 'odd', 'sum', 'ratio')."
   ]
  },
  {
   "cell_type": "code",
   "execution_count": 12,
   "metadata": {
    "colab": {
     "base_uri": "https://localhost:8080/",
     "height": 34
    },
    "executionInfo": {
     "elapsed": 479,
     "status": "ok",
     "timestamp": 1601060937685,
     "user": {
      "displayName": "Tamer Abdou",
      "photoUrl": "https://lh3.googleusercontent.com/a-/AOh14GjCgNQvVj3RXxhuiis_tt7gJ-TeyFHRttd9g6sIBw=s64",
      "userId": "05886486315929943744"
     },
     "user_tz": 240
    },
    "id": "gtgmUSaQpg6H",
    "outputId": "c1d81bca-edf5-4d94-d3e7-bb37fe9d7aa6",
    "pycharm": {
     "name": "#%%\n"
    },
    "tags": []
   },
   "outputs": [],
   "source": [
    "def getEven4(nlst):\n",
    "    countDict = {'even':0,'odd':0 }\n",
    "    even = [ ]\n",
    "    odd =  [ ]\n",
    "    for i in nlst:\n",
    "        if i % 2 == 0:\n",
    "            even.append(i)\n",
    "            countDict.update(even = len(even))\n",
    "        else:\n",
    "            odd.append(i)\n",
    "            countDict.update(odd = len(odd))\n",
    "    countDict['sum'] = sum(countDict.values())\n",
    "    countDict['ratio'] = (countDict['even']/countDict['odd'])\n",
    "    return tuple (countDict)        \n",
    "\n",
    "    "
   ]
  },
  {
   "cell_type": "code",
   "execution_count": 13,
   "metadata": {},
   "outputs": [
    {
     "data": {
      "text/plain": [
       "('even', 'odd', 'sum', 'ratio')"
      ]
     },
     "execution_count": 13,
     "metadata": {},
     "output_type": "execute_result"
    }
   ],
   "source": [
    "getEven4([1,2,3,4,5,7])"
   ]
  },
  {
   "cell_type": "markdown",
   "metadata": {
    "id": "ES2Lj2aup8BB"
   },
   "source": [
    "*****"
   ]
  },
  {
   "cell_type": "markdown",
   "metadata": {
    "id": "TEbtnn-0pg6K",
    "nteract": {
     "transient": {
      "deleting": false
     }
    }
   },
   "source": [
    "\n",
    "\n",
    "### Question 2:\n",
    "\n",
    "Let's define a base class called `Shape` with methods to calculate the area and perimeter of different shapes, as follows:"
   ]
  },
  {
   "cell_type": "code",
   "execution_count": 5,
   "metadata": {
    "id": "sAiYselppg6K",
    "jupyter": {
     "outputs_hidden": false,
     "source_hidden": false
    },
    "nteract": {
     "transient": {
      "deleting": false
     }
    }
   },
   "outputs": [],
   "source": [
    "class Shape:\n",
    "    '''A class defining shapes'''\n",
    "    def __repr__(self):\n",
    "        return f'I am a {self.__class__.__name__}' #print the shape's name\n",
    "\n",
    "    def area(self):\n",
    "        pass\n",
    "\n",
    "    def perimeter(self):\n",
    "        pass"
   ]
  },
  {
   "cell_type": "markdown",
   "metadata": {
    "id": "FRw3RLJ0pg6M",
    "nteract": {
     "transient": {
      "deleting": false
     }
    }
   },
   "source": [
    "**a)**  Define a subclass called `Rectangle` that extends the `Shape` class.  The `Rectangle` class has two parameters: width and height. The area and perimeter of can be computed according to the following formulae:\n",
    "\n",
    "$ area = width * height $\n",
    "\n",
    "$ perimeter = 2 * (width + height) $\n",
    "\n",
    "Hint: A subclass can implement a base class by overriding methods. The `Rectangle` subclass can be defined with the following header:\n",
    "`class Rectangle(Shape):`\n",
    "\n",
    "For example, if the subclass `Rectangle` is instantiated with `Rectangle(3,4)`, the following will be returned:\n",
    "\n",
    "`I am a Rectangle`\n",
    "\n",
    "`area = 12`\n",
    "\n",
    "`perimeter = 14`"
   ]
  },
  {
   "cell_type": "code",
   "execution_count": 14,
   "metadata": {
    "colab": {
     "base_uri": "https://localhost:8080/",
     "height": 68
    },
    "executionInfo": {
     "elapsed": 743,
     "status": "ok",
     "timestamp": 1601060838583,
     "user": {
      "displayName": "Tamer Abdou",
      "photoUrl": "https://lh3.googleusercontent.com/a-/AOh14GjCgNQvVj3RXxhuiis_tt7gJ-TeyFHRttd9g6sIBw=s64",
      "userId": "05886486315929943744"
     },
     "user_tz": 240
    },
    "id": "PWvj1Z6lpg6N",
    "nteract": {
     "transient": {
      "deleting": false
     }
    },
    "outputId": "75f584da-fab5-4ce6-b1c4-82b953ac81d1",
    "tags": []
   },
   "outputs": [
    {
     "data": {
      "text/plain": [
       "I am Rectangle\n",
       "area = 12 \n",
       "primeter = 14"
      ]
     },
     "execution_count": 14,
     "metadata": {},
     "output_type": "execute_result"
    }
   ],
   "source": [
    "class Rectangle(Shape):\n",
    "        def __init__(self, width,height):\n",
    "            self.width = width\n",
    "            self.height = height\n",
    "            \n",
    "        def __repr__(self):\n",
    "             return f'I am {self.__class__.__name__}\\narea = {self.area()} \\nprimeter = {self.perimeter()}'\n",
    "\n",
    "        def area(self):\n",
    "             return self.width*self.height\n",
    "            \n",
    "        def perimeter(self):\n",
    "            return 2*(self.width+self.height)\n",
    "         \n",
    "\n",
    "    \n",
    "Rectangle(3,4)\n",
    "\n",
    "    "
   ]
  },
  {
   "cell_type": "markdown",
   "metadata": {
    "id": "dGqJtsN4AvPB"
   },
   "source": [
    "**b)**  Define a subclass called `Square` that extends the `Rectangle` class. \n",
    "\n",
    "Hint: The `Square` class should inherit all the attributes and behaviours of the `Rectangle` class. However, for any square, the width and height are the same."
   ]
  },
  {
   "cell_type": "code",
   "execution_count": 15,
   "metadata": {
    "colab": {
     "base_uri": "https://localhost:8080/",
     "height": 68
    },
    "executionInfo": {
     "elapsed": 1309,
     "status": "ok",
     "timestamp": 1601060845986,
     "user": {
      "displayName": "Tamer Abdou",
      "photoUrl": "https://lh3.googleusercontent.com/a-/AOh14GjCgNQvVj3RXxhuiis_tt7gJ-TeyFHRttd9g6sIBw=s64",
      "userId": "05886486315929943744"
     },
     "user_tz": 240
    },
    "id": "DVOaFVZvAvPO",
    "outputId": "6e99287e-26ca-4160-e8f5-d92725e32a1c",
    "pycharm": {
     "name": "#%%\n"
    },
    "tags": []
   },
   "outputs": [
    {
     "data": {
      "text/plain": [
       "I am Square\n",
       "area = 16 \n",
       "primeter = 16"
      ]
     },
     "execution_count": 15,
     "metadata": {},
     "output_type": "execute_result"
    }
   ],
   "source": [
    "class Square(Rectangle):\n",
    "    def __init__(self,side):\n",
    "        Rectangle.__init__(self,side,side)\n",
    "        \n",
    "Square(4)\n"
   ]
  },
  {
   "cell_type": "markdown",
   "metadata": {
    "id": "mkFrWZ3kAvPQ"
   },
   "source": [
    "**c)**  Define a subclass called `Circle` that extends the `Shape` class.  The `Circle` class has only one parameter which is the `radius`, and the area and perimeter can be computed according to the following formulae:\n",
    "\n",
    "$Area Of Circle = πR^2$\n",
    "\n",
    "$Perimeter Of Circle = 2πR$\n",
    "\n",
    "Hint:  You might consider using the `math.pi` constant that returns the value of pi: 3.141592653589793.\n",
    "\n",
    "For example, if the subclass `Circle` is instantiated with Circle(radius = 5), the following will be returned:\n",
    "\n",
    "`I am a Circle`\n",
    "\n",
    "`area = 78.54`\n",
    "\n",
    "`perimeter = 31.42`"
   ]
  },
  {
   "cell_type": "code",
   "execution_count": 18,
   "metadata": {
    "colab": {
     "base_uri": "https://localhost:8080/",
     "height": 68
    },
    "executionInfo": {
     "elapsed": 434,
     "status": "ok",
     "timestamp": 1601060855602,
     "user": {
      "displayName": "Tamer Abdou",
      "photoUrl": "https://lh3.googleusercontent.com/a-/AOh14GjCgNQvVj3RXxhuiis_tt7gJ-TeyFHRttd9g6sIBw=s64",
      "userId": "05886486315929943744"
     },
     "user_tz": 240
    },
    "id": "fP4sK_mKAvPR",
    "outputId": "1e182ca4-db7b-4435-a5bd-7a401579c948",
    "pycharm": {
     "name": "#%%\n"
    },
    "tags": []
   },
   "outputs": [
    {
     "data": {
      "text/plain": [
       "I am Circle\n",
       "area = 78.54 \n",
       "primeter = 31.42"
      ]
     },
     "execution_count": 18,
     "metadata": {},
     "output_type": "execute_result"
    }
   ],
   "source": [
    "from math import pi\n",
    "\n",
    "class Circle(Shape):\n",
    "    def __init__(self,radius):\n",
    "        self.radius = radius\n",
    "        \n",
    "    def __repr__(self):\n",
    "             return f'I am {self.__class__.__name__}\\narea = {self.area()} \\nprimeter = {self.perimeter()}'\n",
    "   \n",
    "        \n",
    "    def area(self):\n",
    "        return round(pi*self.radius**2,3)\n",
    "    \n",
    "    def perimeter(self):\n",
    "        return round (2*pi*self.radius,2)\n",
    "\n",
    "Circle(radius = 5)\n"
   ]
  },
  {
   "cell_type": "markdown",
   "metadata": {
    "id": "M9eJ34NNAvPT"
   },
   "source": [
    "*****"
   ]
  },
  {
   "cell_type": "markdown",
   "metadata": {
    "id": "NNVEX5FMq_I7"
   },
   "source": [
    "### Question 3:\n",
    "Email spam, also called junk email, is undesirable message sent in bulk by email (spamming). Spam filtering is an example of a document classification task deciding whether an email is a spam or non-spam. Assume that `txtFile` variable includes the content of a recieved email that has been stored as `email.txt`, as follows:\n"
   ]
  },
  {
   "cell_type": "code",
   "execution_count": 98,
   "metadata": {
    "id": "5WRgwMXxAvPV",
    "pycharm": {
     "name": "#%%\n"
    }
   },
   "outputs": [],
   "source": [
    "txtFile = open(\"email.txt\", \"w\") #Opening a file for writing\n",
    "txtFile.write(\"Subject: SAVE YOUR MUSIC AND REDEEM A SPOTIFY GIFT CARD\\n\\\n",
    "We noticed you haven\\'t used your Spotify account for accessing Spotify services in quite a while. To protect your privacy, this account will be deleted in 14 days, unless you sign in now!\\n\\\n",
    "If you haven\\'t experienced Spotify services recently, they\\'re worth another look.\\n\\\n",
    "It just takes a few seconds to sign in to a spotify account.\\n\\\n",
    "By clicking on any of the following links, you can get a gift card from Spotify worth $10, $20 or $50!\\n\\\n",
    "https://www.spotifytwo.ca\\n\\\n",
    "https://www.spotifynow.com\\n\\\n",
    "We hope to see you soon,\\n\\\n",
    "Sincerely, \\n\\\n",
    "Spotify account team\")\n",
    "txtFile.close()"
   ]
  },
  {
   "cell_type": "markdown",
   "metadata": {
    "id": "oDRF95yUAvPW",
    "pycharm": {
     "name": "#%% md\n"
    }
   },
   "source": [
    "**a)** Display the total number of lines and words in the email.txt file."
   ]
  },
  {
   "cell_type": "code",
   "execution_count": 2,
   "metadata": {
    "colab": {
     "base_uri": "https://localhost:8080/",
     "height": 51
    },
    "executionInfo": {
     "elapsed": 399,
     "status": "ok",
     "timestamp": 1601067003965,
     "user": {
      "displayName": "Tamer Abdou",
      "photoUrl": "https://lh3.googleusercontent.com/a-/AOh14GjCgNQvVj3RXxhuiis_tt7gJ-TeyFHRttd9g6sIBw=s64",
      "userId": "05886486315929943744"
     },
     "user_tz": 240
    },
    "id": "O3jPbo4vAvPc",
    "outputId": "9d1010d7-79a5-4386-b508-8c53a4670f14"
   },
   "outputs": [
    {
     "name": "stdout",
     "output_type": "stream",
     "text": [
      "Subject: SAVE YOUR MUSIC AND REDEEM A SPOTIFY GIFT CARD\n",
      "We noticed you haven't used your Spotify account for accessing Spotify services in quite a while. To protect your privacy, this account will be deleted in 14 days, unless you sign in now!\n",
      "If you haven't experienced Spotify services recently, they're worth another look.\n",
      "It just takes a few seconds to sign in to a spotify account.\n",
      "By clicking on any of the following links, you can get a gift card from Spotify worth $10, $20 or $50!\n",
      "https://www.spotifytwo.ca\n",
      "https://www.spotifynow.com\n",
      "We hope to see you soon,\n",
      "Sincerely, \n",
      "Spotify account team\n"
     ]
    }
   ],
   "source": [
    "textfile = open('email.txt','r')\n",
    "text = textfile.read()\n",
    "textfile.close()\n",
    "print(text)\n",
    "\n",
    "\n"
   ]
  },
  {
   "cell_type": "code",
   "execution_count": 3,
   "metadata": {},
   "outputs": [
    {
     "name": "stdout",
     "output_type": "stream",
     "text": [
      "Total number of line: 10 \n",
      "Total number of words: 100\n"
     ]
    }
   ],
   "source": [
    "textFile = open('email.txt','r')\n",
    "contentsData = textFile.readlines()\n",
    "lineNumbers = 0\n",
    "words_number = 0\n",
    "for line in contentsData:\n",
    "    lineNumbers +=1\n",
    "    words = line.split()\n",
    "    words_number += len(words)\n",
    "        \n",
    "print('Total number of line:',lineNumbers,'\\nTotal number of words:',words_number)    "
   ]
  },
  {
   "cell_type": "markdown",
   "metadata": {
    "id": "YTYiW9MeAvPd"
   },
   "source": [
    "**b)** Display the subject of the received email existing in the `email.txt` file, then display the number of the upper and lower cases in the subject field."
   ]
  },
  {
   "cell_type": "code",
   "execution_count": 41,
   "metadata": {
    "colab": {
     "base_uri": "https://localhost:8080/",
     "height": 102
    },
    "executionInfo": {
     "elapsed": 474,
     "status": "ok",
     "timestamp": 1601066987288,
     "user": {
      "displayName": "Tamer Abdou",
      "photoUrl": "https://lh3.googleusercontent.com/a-/AOh14GjCgNQvVj3RXxhuiis_tt7gJ-TeyFHRttd9g6sIBw=s64",
      "userId": "05886486315929943744"
     },
     "user_tz": 240
    },
    "id": "b5J7kRLZAvPe",
    "outputId": "e5d9eed8-9d18-4dc3-96b2-4821b3e4e73a"
   },
   "outputs": [
    {
     "name": "stdout",
     "output_type": "stream",
     "text": [
      "Subject of the email:   SAVE YOUR MUSIC AND REDEEM A SPOTIFY GIFT CARD\n",
      " \n",
      "Number of upper case letter: 38 \n",
      "Number of lower case letter: 0\n"
     ]
    }
   ],
   "source": [
    "textFile = open('email.txt','r')\n",
    "text = textFile.readlines()\n",
    "subject = text[0]\n",
    "subject = subject.replace(\"Subject:\",\" \") #exclude 'subject'\n",
    "count_upper = 0\n",
    "count_lower = 0\n",
    "for i in subject:\n",
    "    if i.isupper():\n",
    "        count_upper += 1\n",
    "    elif  i.islower():\n",
    "            count_lower += 1\n",
    "            \n",
    "        \n",
    "print('Subject of the email:',subject,'\\nNumber of upper case letter:',count_upper,'\\nNumber of lower case letter:', count_lower)\n",
    "\n"
   ]
  },
  {
   "cell_type": "markdown",
   "metadata": {
    "id": "bHHNxP0IAvPe"
   },
   "source": [
    "**c)** Does the email contain spam words such as 'gift', 'sign' or 'Buy'? "
   ]
  },
  {
   "cell_type": "code",
   "execution_count": 11,
   "metadata": {
    "colab": {
     "base_uri": "https://localhost:8080/",
     "height": 68
    },
    "executionInfo": {
     "elapsed": 752,
     "status": "ok",
     "timestamp": 1601061668153,
     "user": {
      "displayName": "Tamer Abdou",
      "photoUrl": "https://lh3.googleusercontent.com/a-/AOh14GjCgNQvVj3RXxhuiis_tt7gJ-TeyFHRttd9g6sIBw=s64",
      "userId": "05886486315929943744"
     },
     "user_tz": 240
    },
    "id": "NduU2lxxAvPg",
    "outputId": "ee7c855c-68cf-4773-9d09-a6c756f6bc1d"
   },
   "outputs": [
    {
     "name": "stdout",
     "output_type": "stream",
     "text": [
      "Yes, the email contains spam words such as gift\n",
      "Yes, the email contains spam words such as sign\n"
     ]
    }
   ],
   "source": [
    "spam = ['gift','sign','Buy']\n",
    "textFile = open('email.txt','r')\n",
    "text = textFile.read().lower()\n",
    "spam = [items.lower() for items in spam]\n",
    "#print(spam)\n",
    "for triggers in spam:\n",
    "    if triggers in text:\n",
    "        print(f\"Yes, the email contains spam words such as {triggers}\")\n",
    "   "
   ]
  },
  {
   "cell_type": "markdown",
   "metadata": {
    "id": "TO4Ed0HWpg6d"
   },
   "source": [
    "**d)** Define a list that consists of 10 different email spam trigger words, then check whether any of those words exist in the body of the email or not. If the email contains a spam word, print it; otherwise, return a message that the email does not include any predefined spam words."
   ]
  },
  {
   "cell_type": "code",
   "execution_count": 12,
   "metadata": {
    "id": "xrhY3djppg6d"
   },
   "outputs": [
    {
     "name": "stdout",
     "output_type": "stream",
     "text": [
      "Predefined spam words detected in email: ['deleted', 'clicking']\n"
     ]
    }
   ],
   "source": [
    "lstSpam = ['Great','Success','Bonus','Fast','Act','Trial','Name','Deleted','Cancel','Clicking']\n",
    "textFile = open('email.txt','r')\n",
    "text = textFile.readlines()\n",
    "emailBody = text[1:10]\n",
    "detect = []\n",
    "for word in lstSpam:\n",
    "    word = word.lower()\n",
    "    for email in emailBody:\n",
    "        email = email.lower().split()\n",
    "        #print(email)\n",
    "        if word in email:\n",
    "            detect.append(word) \n",
    "if detect:\n",
    "    print(\"Predefined spam words detected in email:\",detect)\n",
    "else:\n",
    "    print(\"The email does not include any predefined spam words\")\n"
   ]
  },
  {
   "cell_type": "code",
   "execution_count": null,
   "metadata": {},
   "outputs": [],
   "source": [
    "## Ref:https://www.simplycast.com/blog/100-top-email-spam-trigger-words-and-phrases-to-avoid/#post"
   ]
  },
  {
   "cell_type": "markdown",
   "metadata": {
    "id": "l9l0sjUoAvPk"
   },
   "source": [
    "#### This is the end of assignment 2"
   ]
  }
 ],
 "metadata": {
  "colab": {
   "collapsed_sections": [],
   "name": "CIND830F20 Assignment 2 QA.ipynb",
   "provenance": []
  },
  "kernelspec": {
   "display_name": "Python 3",
   "language": "python",
   "name": "python3"
  },
  "language_info": {
   "codemirror_mode": {
    "name": "ipython",
    "version": 3
   },
   "file_extension": ".py",
   "mimetype": "text/x-python",
   "name": "python",
   "nbconvert_exporter": "python",
   "pygments_lexer": "ipython3",
   "version": "3.7.4"
  },
  "nteract": {
   "version": "0.25.1"
  },
  "varInspector": {
   "cols": {
    "lenName": 16,
    "lenType": 16,
    "lenVar": 40
   },
   "kernels_config": {
    "python": {
     "delete_cmd_postfix": "",
     "delete_cmd_prefix": "del ",
     "library": "var_list.py",
     "varRefreshCmd": "print(var_dic_list())"
    },
    "r": {
     "delete_cmd_postfix": ") ",
     "delete_cmd_prefix": "rm(",
     "library": "var_list.r",
     "varRefreshCmd": "cat(var_dic_list()) "
    }
   },
   "types_to_exclude": [
    "module",
    "function",
    "builtin_function_or_method",
    "instance",
    "_Feature"
   ],
   "window_display": false
  }
 },
 "nbformat": 4,
 "nbformat_minor": 4
}
